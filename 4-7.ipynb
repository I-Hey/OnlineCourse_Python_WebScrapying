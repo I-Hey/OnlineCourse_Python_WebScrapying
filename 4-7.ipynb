{
 "cells": [
  {
   "cell_type": "markdown",
   "metadata": {},
   "source": [
    "## Selenium安裝與功能教學\n",
    "\n",
    "### Code Gym 爬蟲教學測試網址\n",
    "[https://code-gym.github.io/spider_demo/](https://code-gym.github.io/spider_demo/)\n",
    "\n",
    "### Chrome 瀏覽器driver下載網址\n",
    "[http://chromedriver.chromium.org/downloads](http://chromedriver.chromium.org/downloads)\n",
    "\n",
    "### Selenium 中文文件\n",
    "[https://selenium-python-zh.readthedocs.io/en/latest/locating-elements.html#](https://selenium-python-zh.readthedocs.io/en/latest/locating-elements.html#)\n",
    "\n",
    "### XPath 語法\n",
    "[https://zh.wikipedia.org/wiki/XPath](https://zh.wikipedia.org/wiki/XPath)\n",
    "\n",
    "XPath的第一個索引值是1\n"
   ]
  },
  {
   "cell_type": "code",
   "execution_count": 6,
   "metadata": {},
   "outputs": [
    {
     "name": "stdout",
     "output_type": "stream",
     "text": [
      "Code Gym 爬蟲教學\n",
      "Do you like Cheese Whiz? Spray tan? Fake eyelashes? That's what is Lorem Ipsum to many—it rubs them the wrong way, all the way. It's unreal, uncanny, makes you wonder if something is wrong, it seems to seek your attention for all the wrong reasons. Usually, we prefer the real thing, wine without sulfur based preservatives, real butter, not margarine, and so we'd like our layouts and designs to be filled with real words, with thoughts that count, information that has value.\n"
     ]
    }
   ],
   "source": [
    "from bs4 import BeautifulSoup\n",
    "from selenium import webdriver\n",
    "\n",
    "try:\n",
    "    options = webdriver.ChromeOptions()\n",
    "    options.add_argument('--headless')\n",
    "    chrome = webdriver.Chrome(options=options, executable_path=r'C:\\Users\\corn_\\OneDrive\\軟體區\\軟體區_程式語言\\chromedriver')  \n",
    "    chrome.set_page_load_timeout(10)\n",
    "    chrome.get('https://code-gym.github.io/spider_demo/')\n",
    "    soup = BeautifulSoup(chrome.page_source, 'html5lib')\n",
    "    print(soup.find('h1').text)\n",
    "    \n",
    "    chrome.find_element_by_xpath('/html/body/div[2]/div/div[1]/div[1]/div/div/h3/a').click()\n",
    "    print(chrome.find_element_by_xpath('/html/body/div/div/div/div[1]/div[1]/div[1]/p[1]').text)\n",
    "    \n",
    "finally:\n",
    "    chrome.quit()\n"
   ]
  },
  {
   "cell_type": "code",
   "execution_count": null,
   "metadata": {},
   "outputs": [],
   "source": []
  }
 ],
 "metadata": {
  "kernelspec": {
   "display_name": "Python 3",
   "language": "python",
   "name": "python3"
  },
  "language_info": {
   "codemirror_mode": {
    "name": "ipython",
    "version": 3
   },
   "file_extension": ".py",
   "mimetype": "text/x-python",
   "name": "python",
   "nbconvert_exporter": "python",
   "pygments_lexer": "ipython3",
   "version": "3.8.12"
  }
 },
 "nbformat": 4,
 "nbformat_minor": 2
}
