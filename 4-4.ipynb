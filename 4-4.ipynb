{
 "cells": [
  {
   "cell_type": "markdown",
   "metadata": {},
   "source": [
    "## PTT NBA\n",
    "\n",
    "[https://www.ptt.cc/bbs/NBA/index.html](https://www.ptt.cc/bbs/NBA/index.html)\n",
    "\n"
   ]
  },
  {
   "cell_type": "code",
   "execution_count": 15,
   "metadata": {},
   "outputs": [
    {
     "name": "stdout",
     "output_type": "stream",
     "text": [
      "6/05 32:[花邊] DeRozan談暴龍進總決賽:若沒我打下基礎\n",
      "6/05 32:[情報] LaVar Ball:一旦兩人離婚,就回不去了\n",
      "6/05 11:Re: [討論] 1986季後賽Bird說過Jordan得20分就退休？\n",
      "6/05 28:[情報] 鵜鶘球團開始聽取Anthony Davis的報價\n",
      "6/05 23:[情報]Shams 各隊消息整理\n",
      "6/05 52:[情報] KD out for G3\n",
      "6/05 15:[情報] Hollins加入湖人教練團\n",
      "6/05 30:[新聞] 勇士傷情雪上加霜 柯爾：需要板凳球員\n"
     ]
    }
   ],
   "source": [
    "import requests\n",
    "from bs4 import BeautifulSoup\n",
    "import time\n",
    "\n",
    "today = time.strftime('%m/%d').lstrip('0')\n",
    "\n",
    "def pttNBA(url):\n",
    "    resp = requests.get(url)\n",
    "    if resp.status_code != 200:\n",
    "        print('URL發生錯誤：' + url)\n",
    "        return\n",
    "    \n",
    "    soup = BeautifulSoup(resp.text, 'html5lib')\n",
    "    paging = soup.find('div', 'btn-group btn-group-paging').find_all('a')[1]['href']\n",
    "    \n",
    "    articles = []\n",
    "    rents = soup.find_all('div', 'r-ent')\n",
    "    for rent in rents:\n",
    "        title = rent.find('div', 'title').text.strip()\n",
    "        count = rent.find('div', 'nrec').text.strip()\n",
    "        date = rent.find('div', 'meta').find('div', 'date').text.strip()\n",
    "        article = '%s %s:%s' % (date, count, title)\n",
    "        \n",
    "        try:\n",
    "            if today == date and int(count) > 10:\n",
    "                articles.append(article)\n",
    "        except:\n",
    "            if today == date and count == '爆':\n",
    "                articles.append(article)\n",
    "    \n",
    "    if len(articles) != 0:\n",
    "        for article in articles:\n",
    "            print(article)\n",
    "        pttNBA('https://www.ptt.cc' + paging)\n",
    "    else:\n",
    "        return\n",
    "    \n",
    "pttNBA('https://www.ptt.cc/bbs/NBA/index.html')\n"
   ]
  },
  {
   "cell_type": "code",
   "execution_count": 11,
   "metadata": {},
   "outputs": [],
   "source": []
  },
  {
   "cell_type": "code",
   "execution_count": null,
   "metadata": {},
   "outputs": [],
   "source": []
  }
 ],
 "metadata": {
  "kernelspec": {
   "display_name": "Python 3",
   "language": "python",
   "name": "python3"
  },
  "language_info": {
   "codemirror_mode": {
    "name": "ipython",
    "version": 3
   },
   "file_extension": ".py",
   "mimetype": "text/x-python",
   "name": "python",
   "nbconvert_exporter": "python",
   "pygments_lexer": "ipython3",
   "version": "3.7.3"
  }
 },
 "nbformat": 4,
 "nbformat_minor": 2
}
