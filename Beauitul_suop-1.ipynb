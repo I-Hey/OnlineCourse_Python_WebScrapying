{
 "cells": [
  {
   "cell_type": "code",
   "execution_count": 5,
   "metadata": {},
   "outputs": [
    {
     "name": "stdout",
     "output_type": "stream",
     "text": [
      "Code Gym 爬蟲教學\n",
      "Code Gym 爬蟲教學\n"
     ]
    }
   ],
   "source": [
    "import requests\n",
    "from bs4 import BeautifulSoup\n",
    "\n",
    "resp = requests.get('https://code-gym.github.io/spider_demo/')\n",
    "soup = BeautifulSoup(resp.text, 'html5lib')\n",
    "\n",
    "print(soup.find('h1').text)\n",
    "print(soup.h1.text)\n"
   ]
  },
  {
   "cell_type": "code",
   "execution_count": 7,
   "metadata": {},
   "outputs": [
    {
     "name": "stdout",
     "output_type": "stream",
     "text": [
      "None\n",
      "<a href=\"blog-post.html\">JavaScript (簡稱 JS) 是具有一級函數的輕量級、直譯式或即時編譯（JIT-compiled）的程式語言。\n",
      "         </a>\n",
      "<a href=\"blog-post.html\">jQuery是一套跨瀏覽器的JavaScript函式庫，簡化HTML與JavaScript之間的操作。\n",
      "         </a>\n",
      "<a href=\"blog-post.html\">web design 涵蓋了製作和維護網站的許多不同的技能和學科。它包含了網頁圖形設計、介面設計等技術。</a>\n",
      "<a href=\"blog-post.html\">JavaScript (簡稱 JS) 是具有一級函數的輕量級、直譯式或即時編譯（JIT-compiled）的程式語言。\n",
      "         </a>\n",
      "<a href=\"blog-post.html\">jQuery是一套跨瀏覽器的JavaScript函式庫，簡化HTML與JavaScript之間的操作。\n",
      "         </a>\n",
      "<a href=\"blog-post.html\">淺談 JavaScript 頭號難題 this\n",
      "         </a>\n",
      "<a href=\"blog-post.html\">層疊樣式表（英語：Cascading Style Sheets，簡寫CSS），又稱串樣式列表\n",
      "         </a>\n",
      "<a href=\"blog-post.html\">RWD網頁設計趨勢\n",
      "         </a>\n",
      "None\n",
      "None\n",
      "None\n"
     ]
    }
   ],
   "source": [
    "for h3 in soup.find_all('h3'):\n",
    "    print(h3.a)"
   ]
  },
  {
   "cell_type": "code",
   "execution_count": 8,
   "metadata": {},
   "outputs": [
    {
     "name": "stdout",
     "output_type": "stream",
     "text": [
      "<a href=\"blog-post.html\">JavaScript (簡稱 JS) 是具有一級函數的輕量級、直譯式或即時編譯（JIT-compiled）的程式語言。\n",
      "         </a>\n",
      "<a href=\"blog-post.html\">jQuery是一套跨瀏覽器的JavaScript函式庫，簡化HTML與JavaScript之間的操作。\n",
      "         </a>\n",
      "<a href=\"blog-post.html\">web design 涵蓋了製作和維護網站的許多不同的技能和學科。它包含了網頁圖形設計、介面設計等技術。</a>\n",
      "<a href=\"blog-post.html\">JavaScript (簡稱 JS) 是具有一級函數的輕量級、直譯式或即時編譯（JIT-compiled）的程式語言。\n",
      "         </a>\n",
      "<a href=\"blog-post.html\">jQuery是一套跨瀏覽器的JavaScript函式庫，簡化HTML與JavaScript之間的操作。\n",
      "         </a>\n",
      "<a href=\"blog-post.html\">淺談 JavaScript 頭號難題 this\n",
      "         </a>\n",
      "<a href=\"blog-post.html\">層疊樣式表（英語：Cascading Style Sheets，簡寫CSS），又稱串樣式列表\n",
      "         </a>\n",
      "<a href=\"blog-post.html\">RWD網頁設計趨勢\n",
      "         </a>\n"
     ]
    }
   ],
   "source": [
    "for title in soup.find_all('h3', 'post-title'):\n",
    "    print(title.a)"
   ]
  }
 ],
 "metadata": {
  "interpreter": {
   "hash": "e9293aa7a88631f3e2f586e24537865230d55cf63d3a4fdac4152ecf63c82b4d"
  },
  "kernelspec": {
   "display_name": "Python 3.8.12 64-bit ('python-web scraping': conda)",
   "language": "python",
   "name": "python3"
  },
  "language_info": {
   "codemirror_mode": {
    "name": "ipython",
    "version": 3
   },
   "file_extension": ".py",
   "mimetype": "text/x-python",
   "name": "python",
   "nbconvert_exporter": "python",
   "pygments_lexer": "ipython3",
   "version": "3.8.12"
  },
  "orig_nbformat": 4
 },
 "nbformat": 4,
 "nbformat_minor": 2
}
